{
 "cells": [
  {
   "cell_type": "code",
   "execution_count": 1,
   "id": "a8b0f1b2",
   "metadata": {},
   "outputs": [],
   "source": [
    "import yfinance as yf"
   ]
  },
  {
   "cell_type": "code",
   "execution_count": 9,
   "id": "da1ada17",
   "metadata": {},
   "outputs": [
    {
     "name": "stdout",
     "output_type": "stream",
     "text": [
      "What is your current age? 21\n",
      "What is the current value of your retirement account? 1000\n",
      "22 2100.0\n",
      "23 3310.0\n",
      "24 4641.0\n",
      "25 6105.1\n",
      "26 7715.610000000001\n",
      "27 9487.171000000002\n",
      "28 11435.888100000004\n",
      "29 13579.476910000005\n",
      "30 15937.424601000006\n",
      "31 18531.167061100008\n",
      "32 21384.28376721001\n",
      "33 24522.712143931014\n",
      "34 27974.983358324116\n",
      "35 31772.48169415653\n",
      "36 35949.72986357218\n",
      "37 40544.7028499294\n",
      "38 45599.17313492235\n",
      "39 51159.09044841459\n",
      "40 57274.99949325605\n",
      "41 64002.49944258166\n",
      "42 71402.74938683983\n",
      "43 79543.02432552382\n",
      "44 88497.3267580762\n",
      "45 98347.05943388383\n",
      "46 109181.76537727223\n",
      "47 121099.94191499946\n",
      "48 134209.93610649943\n",
      "49 148630.92971714938\n",
      "50 164494.02268886432\n",
      "51 181943.42495775077\n",
      "52 201137.76745352586\n",
      "53 222251.54419887846\n",
      "54 245476.69861876633\n",
      "55 271024.36848064297\n",
      "56 299126.80532870727\n",
      "57 330039.485861578\n",
      "58 364043.43444773584\n",
      "59 401447.7778925095\n",
      "60 442592.5556817605\n",
      "61 487851.8112499366\n",
      "62 537636.9923749303\n",
      "63 592400.6916124234\n",
      "64 652640.7607736657\n",
      "65 718904.8368510323\n",
      "66 791795.3205361356\n",
      "67 871974.8525897493\n",
      "68 960172.3378487242\n",
      "69 1057189.5716335967\n",
      "At the age of , 69, you will have 1000000 when you retire \n"
     ]
    }
   ],
   "source": [
    "current_age = int(input(\"What is your current age? \"))\n",
    "acct_balance = int(input(\"What is the current value of your retirement account? \"))\n",
    "required_value_for_retirement = 1000000\n",
    "return_rate = 0.10\n",
    "deposit = 1000\n",
    "\n",
    "while acct_balance < required_value_for_retirement:\n",
    "    acct_balance = acct_balance * (1 + return_rate) + deposit\n",
    "    current_age += 1\n",
    "    print(current_age, acct_balance)\n",
    "\n",
    "print(\"At the age of , \" + str(current_age) + \", you will have \" + str(required_value_for_retirement) + \" when you retire \")"
   ]
  },
  {
   "cell_type": "code",
   "execution_count": 3,
   "id": "f7b0f23f",
   "metadata": {},
   "outputs": [],
   "source": [
    "def val_at_retire():\n",
    "    current_age = int(input(\"What is your current age? \"))\n",
    "    retire_age = int(input(\"What is your expected retirement age? \"))\n",
    "    year_end_value = int(\n",
    "        input(\"What is the current value of your retirement account? \")\n",
    "    )\n",
    "\n",
    "    # Calculate average annual return of the benchmark\n",
    "    benchmark = input(\"What is the ticker for your benchmark return? \")\n",
    "    bench_close = yf.download(benchmark, period=\"10y\")[\"Adj Close\"]\n",
    "    return_rate = bench_close.pct_change(251).mean()\n",
    "\n",
    "    # Calculate annual contribution w/401k matching\n",
    "    deposit_pct = (\n",
    "        int(\n",
    "            input(\n",
    "                \"What percentage of your base salary will you be contributing to your 401k every year? \"\n",
    "            )\n",
    "        )\n",
    "        / 100\n",
    "    )\n",
    "    four01k_pct = int(input(\"What is the percentage employer match? \"))\n",
    "    salary = int(input(\"What is your current salary? \"))\n",
    "\n",
    "    # Expected increase in salary\n",
    "    salary_rise_rate = (\n",
    "        int(input(\"What is your expected annual percentage salary increase? \")) / 100\n",
    "    )\n",
    "\n",
    "    # Expected promotion rate:\n",
    "    promotion_freq = int(input(\"How often do you expect to be promoted? \"))\n",
    "    promotion_rate = (\n",
    "        int(input(\"What percentage increase do you expect from the promotion? \")) / 100\n",
    "    )\n",
    "    # Create iterative value\n",
    "    i = 0\n",
    "\n",
    "    for every_year in range(current_age, retire_age):\n",
    "        # Calculate salary\n",
    "        salary = salary * (1 + salary_rise_rate)\n",
    "\n",
    "        # Calculate promotions\n",
    "        if i % promotion_freq == 0:\n",
    "            salary = salary * (1 + promotion_rate)\n",
    "\n",
    "        # Calculate annual contributions\n",
    "        deposit = salary * deposit_pct\n",
    "        four01k_match = salary * four01k_pct\n",
    "\n",
    "        # Check that match is not greater than the deposit\n",
    "        if deposit < four01k_match:\n",
    "            four01k_match = deposit\n",
    "\n",
    "        year_end_value = year_end_value * (1 + return_rate) + deposit + four01k_match\n",
    "\n",
    "        i += 1\n",
    "\n",
    "    return (every_year + 1, year_end_value)"
   ]
  },
  {
   "cell_type": "code",
   "execution_count": 4,
   "id": "b594acfa",
   "metadata": {},
   "outputs": [
    {
     "name": "stdout",
     "output_type": "stream",
     "text": [
      "What is your current age? 21\n",
      "What is your expected retirement age? 67\n",
      "What is the current value of your retirement account? 1000\n",
      "What is the ticker for your benchmark return? spy\n",
      "[*********************100%***********************]  1 of 1 completed\n",
      "What percentage of your base salary will you be contributing to your 401k every year? 5\n",
      "What is the percentage employer match? 5\n",
      "What is your current salary? 100000\n",
      "What is your expected annual percentage salary increase? 2\n",
      "How often do you expect to be promoted? 1\n",
      "What percentage increase do you expect from the promotion? 1\n"
     ]
    },
    {
     "data": {
      "text/plain": [
       "(67, 34423829.10221951)"
      ]
     },
     "execution_count": 4,
     "metadata": {},
     "output_type": "execute_result"
    }
   ],
   "source": [
    "val_at_retire()"
   ]
  }
 ],
 "metadata": {
  "kernelspec": {
   "display_name": "Python 3 (ipykernel)",
   "language": "python",
   "name": "python3"
  },
  "language_info": {
   "codemirror_mode": {
    "name": "ipython",
    "version": 3
   },
   "file_extension": ".py",
   "mimetype": "text/x-python",
   "name": "python",
   "nbconvert_exporter": "python",
   "pygments_lexer": "ipython3",
   "version": "3.9.7"
  }
 },
 "nbformat": 4,
 "nbformat_minor": 5
}
